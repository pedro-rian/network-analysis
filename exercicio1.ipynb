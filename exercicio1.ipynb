{
  "nbformat": 4,
  "nbformat_minor": 0,
  "metadata": {
    "colab": {
      "provenance": [],
      "authorship_tag": "ABX9TyP5ePJ2AbRSBozJCXrMryhB",
      "include_colab_link": true
    },
    "kernelspec": {
      "name": "python3",
      "display_name": "Python 3"
    },
    "language_info": {
      "name": "python"
    }
  },
  "cells": [
    {
      "cell_type": "markdown",
      "metadata": {
        "id": "view-in-github",
        "colab_type": "text"
      },
      "source": [
        "<a href=\"https://colab.research.google.com/github/pedro-rian/network-analysis-IMD/blob/main/exercicio1.ipynb\" target=\"_parent\"><img src=\"https://colab.research.google.com/assets/colab-badge.svg\" alt=\"Open In Colab\"/></a>"
      ]
    },
    {
      "cell_type": "markdown",
      "source": [
        "1. Define:\n",
        "\n",
        "(a) Subgraph\n",
        "\n",
        "(b) Bipartite graph.\n",
        "\n",
        "(c) Hamiltonian graph\n",
        "\n",
        "(d) Eulerian graph"
      ],
      "metadata": {
        "id": "9-WKDA8e69UO"
      }
    },
    {
      "cell_type": "code",
      "execution_count": null,
      "metadata": {
        "id": "gAQlLTbc6ICl"
      },
      "outputs": [],
      "source": []
    }
  ]
}